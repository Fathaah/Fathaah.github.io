{
  "nbformat": 4,
  "nbformat_minor": 0,
  "metadata": {
    "colab": {
      "name": "PipeLine(Flipkart Grid).ipynb",
      "version": "0.3.2",
      "provenance": [],
      "collapsed_sections": [],
      "toc_visible": true,
      "include_colab_link": true
    },
    "kernelspec": {
      "name": "python3",
      "display_name": "Python 3"
    }
  },
  "cells": [
    {
      "cell_type": "markdown",
      "metadata": {
        "id": "view-in-github",
        "colab_type": "text"
      },
      "source": [
        "<a href=\"https://colab.research.google.com/github/Fathaah/Fathaah.github.io/blob/master/PipeLine(Flipkart_Grid).ipynb\" target=\"_parent\"><img src=\"https://colab.research.google.com/assets/colab-badge.svg\" alt=\"Open In Colab\"/></a>"
      ]
    },
    {
      "metadata": {
        "id": "N4zw31xu7o_r",
        "colab_type": "text"
      },
      "cell_type": "markdown",
      "source": [
        "# Flipkart Grid Challenge Pipeline\n"
      ]
    },
    {
      "metadata": {
        "id": "3oVfS__c7uMb",
        "colab_type": "text"
      },
      "cell_type": "markdown",
      "source": [
        "## Loading Data"
      ]
    },
    {
      "metadata": {
        "id": "LOEPjf0H7jaZ",
        "colab_type": "code",
        "colab": {
          "base_uri": "https://localhost:8080/",
          "height": 125
        },
        "outputId": "9d8a8b61-0e97-416c-e1eb-68fd6b5311c9"
      },
      "cell_type": "code",
      "source": [
        "#Mount Drive\n",
        "from google.colab import drive\n",
        "drive.mount('/opt/gdrive')"
      ],
      "execution_count": 2,
      "outputs": [
        {
          "output_type": "stream",
          "text": [
            "Go to this URL in a browser: https://accounts.google.com/o/oauth2/auth?client_id=947318989803-6bn6qk8qdgf4n4g3pfee6491hc0brc4i.apps.googleusercontent.com&redirect_uri=urn%3Aietf%3Awg%3Aoauth%3A2.0%3Aoob&scope=email%20https%3A%2F%2Fwww.googleapis.com%2Fauth%2Fdocs.test%20https%3A%2F%2Fwww.googleapis.com%2Fauth%2Fdrive%20https%3A%2F%2Fwww.googleapis.com%2Fauth%2Fdrive.photos.readonly%20https%3A%2F%2Fwww.googleapis.com%2Fauth%2Fpeopleapi.readonly&response_type=code\n",
            "\n",
            "Enter your authorization code:\n",
            "··········\n",
            "Mounted at /opt/gdrive\n"
          ],
          "name": "stdout"
        }
      ]
    },
    {
      "metadata": {
        "id": "oLNj26xZ8Roz",
        "colab_type": "code",
        "colab": {
          "base_uri": "https://localhost:8080/",
          "height": 212
        },
        "outputId": "86c338e1-4ad8-4985-ae71-3888853f25fc"
      },
      "cell_type": "code",
      "source": [
        "#Load Labels\n",
        "!wget https://d8it4huxumps7.cloudfront.net/uploads/attachements/code-contests/flipkartgrid/training.csv"
      ],
      "execution_count": 3,
      "outputs": [
        {
          "output_type": "stream",
          "text": [
            "--2019-02-02 20:41:07--  https://d8it4huxumps7.cloudfront.net/uploads/attachements/code-contests/flipkartgrid/training.csv\n",
            "Resolving d8it4huxumps7.cloudfront.net (d8it4huxumps7.cloudfront.net)... 52.84.245.46, 52.84.245.221, 52.84.245.247, ...\n",
            "Connecting to d8it4huxumps7.cloudfront.net (d8it4huxumps7.cloudfront.net)|52.84.245.46|:443... connected.\n",
            "HTTP request sent, awaiting response... 200 OK\n",
            "Length: 731903 (715K) [text/csv]\n",
            "Saving to: ‘training.csv’\n",
            "\n",
            "\rtraining.csv          0%[                    ]       0  --.-KB/s               \rtraining.csv        100%[===================>] 714.75K  --.-KB/s    in 0.08s   \n",
            "\n",
            "2019-02-02 20:41:07 (8.88 MB/s) - ‘training.csv’ saved [731903/731903]\n",
            "\n"
          ],
          "name": "stdout"
        }
      ]
    },
    {
      "metadata": {
        "id": "lmrz5Oh3723B",
        "colab_type": "code",
        "colab": {}
      },
      "cell_type": "code",
      "source": [
        "#Unzip \n",
        "!unzip -qq /opt/gdrive/My\\ Drive/images.zip"
      ],
      "execution_count": 0,
      "outputs": []
    },
    {
      "metadata": {
        "id": "jxNl4z1f8fIG",
        "colab_type": "code",
        "colab": {}
      },
      "cell_type": "code",
      "source": [
        "import numpy as np\n",
        "import os\n",
        "import tensorflow as tf\n",
        "from matplotlib import pyplot as plt\n",
        "from PIL import Image\n",
        "import pandas as pd\n",
        "import cv2\n",
        "import time\n",
        "import random\n",
        "from IPython.display import clear_output"
      ],
      "execution_count": 0,
      "outputs": []
    },
    {
      "metadata": {
        "id": "g8byk8ZB8jhE",
        "colab_type": "text"
      },
      "cell_type": "markdown",
      "source": [
        "# PreProcessing\n"
      ]
    },
    {
      "metadata": {
        "id": "S73Wb9pU8l5n",
        "colab_type": "code",
        "colab": {}
      },
      "cell_type": "code",
      "source": [
        "#Loading training.csv\n",
        "df = pd.read_csv('training.csv')\n",
        "data = np.asarray(df)"
      ],
      "execution_count": 0,
      "outputs": []
    },
    {
      "metadata": {
        "id": "yWkNLC3o88yM",
        "colab_type": "code",
        "colab": {}
      },
      "cell_type": "code",
      "source": [
        "#Normalization Of Data\n",
        "def Normalize(data):\n",
        "  label = []\n",
        "  for i in range(14000):\n",
        "    data[i][1] = (data[i][1]-320)/320\n",
        "    data[i][2] = (data[i][2]-320)/320\n",
        "    data[i][3] = (data[i][3]-240)/240\n",
        "    data[i][4] = (data[i][4]-240)/240\n",
        "    label.append(data[i][1:])\n",
        "  return label\n",
        "label = np.asarray(Normalize(data)).astype(float)"
      ],
      "execution_count": 0,
      "outputs": []
    },
    {
      "metadata": {
        "id": "GV9pppx59KIy",
        "colab_type": "code",
        "colab": {}
      },
      "cell_type": "code",
      "source": [
        "def load_image(path):\n",
        "    img = Image.open(path)\n",
        "    return img\n",
        "def preprocess_image(cv_img):\n",
        "    cv_img = cv2.resize(cv_img,(224,224),interpolation = cv2.INTER_CUBIC)\n",
        "    img = np.array(cv_img) \n",
        "    img = (np.dot(img[...,:3], [0.299, 0.587, 0.114]))\n",
        "    return (np.array(img))/255\n",
        "def Get_data(l,labels,data_frame = data):\n",
        "  #Load Images\n",
        "  Ys = []\n",
        "  images=[]\n",
        "  n=len(l)\n",
        "  for i in range(len(l)):\n",
        "      img=load_image(dest+data_frame[l[i]][0])\n",
        "      if np.random.rand() > 0:\n",
        "        images.append(preprocess_image(np.asarray(img)))\n",
        "        Ys.append(label[l[i]])\n",
        "      else:\n",
        "        images.append((preprocess_image(np.transpose(np.asarray(img)))))\n",
        "        Ys.append([label[l[i]][2],label[l[i]][3],label[l[i]][0],label[l[i]][1]])\n",
        "  return images,Ys"
      ],
      "execution_count": 0,
      "outputs": []
    },
    {
      "metadata": {
        "id": "LSoJSNDJ9dm9",
        "colab_type": "text"
      },
      "cell_type": "markdown",
      "source": [
        "# Model\n"
      ]
    },
    {
      "metadata": {
        "id": "FN7r8P269ixR",
        "colab_type": "text"
      },
      "cell_type": "markdown",
      "source": [
        "# PostProcessing\n"
      ]
    },
    {
      "metadata": {
        "id": "3Y1ukpUq9sk0",
        "colab_type": "code",
        "colab": {}
      },
      "cell_type": "code",
      "source": [
        "#Test file/Submission File\n",
        "!wget https://d8it4huxumps7.cloudfront.net/uploads/attachements/code-contests/flipkartgrid/test.csv\n",
        "test = pd.read_csv('test.csv')\n",
        "test = np.asarray(test)"
      ],
      "execution_count": 0,
      "outputs": []
    },
    {
      "metadata": {
        "id": "dJIJ7qEr9qT7",
        "colab_type": "code",
        "colab": {}
      },
      "cell_type": "code",
      "source": [
        "#Run Infetence"
      ],
      "execution_count": 0,
      "outputs": []
    },
    {
      "metadata": {
        "id": "1hfnTdU-9lE-",
        "colab_type": "code",
        "colab": {}
      },
      "cell_type": "code",
      "source": [
        "def DeNormalize(data):\n",
        "  label = []\n",
        "  for i in range(data.shape[0]):\n",
        "    #print(i)\n",
        "    data[i][0][0] = (data[i][0][0]+1)*320\n",
        "    data[i][0][1] = (data[i][0][1]+1)*320\n",
        "    data[i][0][2] = (data[i][0][2]+1)*240\n",
        "    data[i][0][3] = (data[i][0][3]+1)*240\n",
        "    label.append(data[i][0][0:])\n",
        "  return np.asarray(label).astype(int)"
      ],
      "execution_count": 0,
      "outputs": []
    }
  ]
}